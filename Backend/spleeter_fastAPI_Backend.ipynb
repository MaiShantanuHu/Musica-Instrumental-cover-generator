{
 "cells": [
  {
   "cell_type": "code",
   "execution_count": null,
   "metadata": {
    "id": "f8Brdfh6mzEz"
   },
   "outputs": [],
   "source": [
    "!apt install ffmpeg\n",
    "!pip install colabcode\n",
    "!pip install fastapi"
   ]
  },
  {
   "cell_type": "code",
   "execution_count": null,
   "metadata": {
    "id": "Fs4KuvYLUgNm"
   },
   "outputs": [],
   "source": [
    "pip install spleeter"
   ]
  },
  {
   "cell_type": "code",
   "execution_count": null,
   "metadata": {
    "id": "zKedglCfxGwr"
   },
   "outputs": [],
   "source": [
    "pip install pyrebase"
   ]
  },
  {
   "cell_type": "code",
   "execution_count": null,
   "metadata": {
    "id": "AMZiRoLRUxJJ"
   },
   "outputs": [],
   "source": [
    "pip install python-multipart"
   ]
  },
  {
   "cell_type": "code",
   "execution_count": null,
   "metadata": {
    "id": "184S6SW---qp"
   },
   "outputs": [],
   "source": [
    "from IPython.display import Audio\n",
    "from colabcode import ColabCode\n",
    "cc = ColabCode(port=12000, code=False)"
   ]
  },
  {
   "cell_type": "code",
   "execution_count": null,
   "metadata": {
    "id": "wGMe-IR1sVUg"
   },
   "outputs": [],
   "source": [
    "!curl -s https://ngrok-agent.s3.amazonaws.com/ngrok.asc | sudo tee /etc/apt/trusted.gpg.d/ngrok.asc >/dev/null && echo \"deb https://ngrok-agent.s3.amazonaws.com buster main\" | sudo tee /etc/apt/sources.list.d/ngrok.list && sudo apt update && sudo apt install ngrok   "
   ]
  },
  {
   "cell_type": "code",
   "execution_count": null,
   "metadata": {
    "colab": {
     "base_uri": "https://localhost:8080/"
    },
    "id": "lnlvNQN6sxSy",
    "outputId": "a40b9c71-f1d7-47f8-ccdb-3efc58895381"
   },
   "outputs": [
    {
     "name": "stdout",
     "output_type": "stream",
     "text": [
      "Authtoken saved to configuration file: /root/.config/ngrok/ngrok.yml\n"
     ]
    }
   ],
   "source": [
    "!ngrok authtoken #enter ngrok authtoken here"
   ]
  },
  {
   "cell_type": "code",
   "execution_count": null,
   "metadata": {
    "id": "f_US8PbE_DvO"
   },
   "outputs": [],
   "source": [
    "from google.colab import files\n",
    "import os\n",
    "import subprocess\n",
    "from fastapi import FastAPI, File, UploadFile, Request, Form\n",
    "import shutil\n",
    "from fastapi import FastAPI\n",
    "from fastapi.middleware.cors import CORSMiddleware\n",
    "import pyrebase\n",
    "\n",
    "\n",
    "\n",
    "app = FastAPI()\n",
    "\n",
    "config = {\n",
    "    #add firebase config details here\n",
    "    }\n",
    "\n",
    "firebase = pyrebase.initialize_app(config)    \n",
    "storage = firebase.storage()    \n",
    "\n",
    "origins = [\n",
    "    \"http://localhost:3000/\",\n",
    "    \"http://localhost:3000\"\n",
    "]\n",
    "\n",
    "app.add_middleware(\n",
    "    CORSMiddleware,\n",
    "    allow_origins=origins,\n",
    "    allow_credentials=False,\n",
    "    allow_methods=[\"*\"],\n",
    "    allow_headers=[\"*\"],\n",
    ")\n",
    "\n",
    "\n",
    "\n",
    "@app.get(\"/\")\n",
    "async def read_root():\n",
    "  print(\"Came\")\n",
    "  return \"HEllo World\"\n",
    "\n",
    "@app.post(\"/data\")\n",
    "async def test(item : Request):\n",
    "  data = await item.json()\n",
    "  return {\"d\" : data}\n",
    "\n",
    "\n",
    "\n",
    "@app.post(\"/upload\")\n",
    "def upload_file(audio_file: UploadFile = File(...), uid: str = Form(...)):\n",
    "  filename = audio_file.filename\n",
    "  print(filename)\n",
    "\n",
    "  with open(filename, \"wb\") as buffer:\n",
    "    shutil.copyfileobj(audio_file.file, buffer)\n",
    "\n",
    "  try:\n",
    "    stream = subprocess.run('spleeter separate -o output/ ' + filename, shell = True)\n",
    "    print(type(stream))\n",
    "    vocals = \"output/\" + filename.split(\".\")[0] + \"/vocals.wav\"\n",
    "    #print(type(vocals))\n",
    "    storage.child(uid + \"/vocals/\" + filename).put(vocals)\n",
    "\n",
    "  except Exception as e:\n",
    "    print(f\"{e}\")\n",
    "\n",
    "  return \"Success\""
   ]
  },
  {
   "cell_type": "code",
   "execution_count": null,
   "metadata": {
    "colab": {
     "base_uri": "https://localhost:8080/"
    },
    "id": "8ZqwZRBd_JF8",
    "outputId": "b99fd3c5-75f4-4645-eb2f-80c95f89d538"
   },
   "outputs": [
    {
     "name": "stdout",
     "output_type": "stream",
     "text": [
      "Public URL: NgrokTunnel: \"https://8ddc-34-86-245-109.ngrok.io\" -> \"http://localhost:12000\"\n"
     ]
    },
    {
     "name": "stderr",
     "output_type": "stream",
     "text": [
      "INFO:     Started server process [59]\n",
      "INFO:     Waiting for application startup.\n",
      "INFO:     Application startup complete.\n",
      "INFO:     Uvicorn running on http://127.0.0.1:12000 (Press CTRL+C to quit)\n"
     ]
    },
    {
     "name": "stdout",
     "output_type": "stream",
     "text": [
      "Rockabye.mp3\n",
      "<class 'subprocess.CompletedProcess'>\n",
      "[Errno 2] No such file or directory: 'output/Rockabye/vocals.wav'\n",
      "INFO:     103.134.130.206:0 - \"POST /upload HTTP/1.1\" 200 OK\n"
     ]
    }
   ],
   "source": [
    "cc.run_app(app=app)"
   ]
  },
  {
   "cell_type": "code",
   "execution_count": null,
   "metadata": {
    "id": "sQImCZ3I37xp"
   },
   "outputs": [],
   "source": [
    "Audio(\"output/Sunflower/vocals.wav\")"
   ]
  }
 ],
 "metadata": {
  "colab": {
   "collapsed_sections": [],
   "name": "spleeter_fastAPI_Backend.ipynb",
   "provenance": []
  },
  "kernelspec": {
   "display_name": "Python 3",
   "language": "python",
   "name": "python3"
  },
  "language_info": {
   "codemirror_mode": {
    "name": "ipython",
    "version": 3
   },
   "file_extension": ".py",
   "mimetype": "text/x-python",
   "name": "python",
   "nbconvert_exporter": "python",
   "pygments_lexer": "ipython3",
   "version": "3.8.3"
  }
 },
 "nbformat": 4,
 "nbformat_minor": 1
}
